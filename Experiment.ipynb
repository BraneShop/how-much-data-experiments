{
 "cells": [
  {
   "cell_type": "markdown",
   "metadata": {},
   "source": [
    "# Run a single experiment"
   ]
  },
  {
   "cell_type": "code",
   "execution_count": 1,
   "metadata": {},
   "outputs": [],
   "source": [
    "from downsample_data import main\n",
    "import os\n",
    "import pandas as pd\n",
    "import numpy  as np"
   ]
  },
  {
   "cell_type": "code",
   "execution_count": 2,
   "metadata": {},
   "outputs": [],
   "source": [
    "experiments_directory = \"small-experiments\"\n",
    "holdout_directory     = \"small-holdouts\"\n",
    "csvs_directory        = \"small-csvs\"\n",
    "holdout_percent       = 10"
   ]
  },
  {
   "cell_type": "code",
   "execution_count": 3,
   "metadata": {},
   "outputs": [],
   "source": [
    "amounts = [\"1\", \"3\"]"
   ]
  },
  {
   "cell_type": "code",
   "execution_count": 4,
   "metadata": {},
   "outputs": [
    {
     "name": "stderr",
     "output_type": "stream",
     "text": [
      "  0%|          | 0/5 [00:00<?, ?it/s]\n",
      "  0%|          | 0/2 [00:00<?, ?it/s]\u001b[A\n",
      "\n",
      "  0%|          | 0/1 [00:00<?, ?it/s]\u001b[A\u001b[A\n",
      "\n",
      "100%|██████████| 1/1 [00:00<00:00, 483.44it/s]\u001b[A\u001b[A\n",
      "\n",
      "  0%|          | 0/3 [00:00<?, ?it/s]\u001b[A\u001b[A\n",
      "\n",
      "100%|██████████| 3/3 [00:00<00:00, 509.90it/s]\u001b[A\u001b[A\n",
      "100%|██████████| 2/2 [00:00<00:00, 73.48it/s]\u001b[A\n",
      "  0%|          | 0/2 [00:00<?, ?it/s]\u001b[A\n",
      "\n",
      "  0%|          | 0/1 [00:00<?, ?it/s]\u001b[A\u001b[A\n",
      "\n",
      "100%|██████████| 1/1 [00:00<00:00, 474.52it/s]\u001b[A\u001b[A\n",
      "\n",
      "  0%|          | 0/3 [00:00<?, ?it/s]\u001b[A\u001b[A\n",
      "\n",
      "100%|██████████| 3/3 [00:00<00:00, 850.43it/s]\u001b[A\u001b[A\n",
      " 40%|████      | 2/5 [00:00<00:00, 18.11it/s]]\u001b[A\n",
      "  0%|          | 0/2 [00:00<?, ?it/s]\u001b[A\n",
      "\n",
      "  0%|          | 0/1 [00:00<?, ?it/s]\u001b[A\u001b[A\n",
      "\n",
      "100%|██████████| 1/1 [00:00<00:00, 842.57it/s]\u001b[A\u001b[A\n",
      "\n",
      "  0%|          | 0/3 [00:00<?, ?it/s]\u001b[A\u001b[A\n",
      "\n",
      "100%|██████████| 3/3 [00:00<00:00, 1056.50it/s]\u001b[A\u001b[A\n",
      "100%|██████████| 2/2 [00:00<00:00, 201.05it/s]\u001b[A\n",
      "  0%|          | 0/2 [00:00<?, ?it/s]\u001b[A\n",
      "\n",
      "  0%|          | 0/1 [00:00<?, ?it/s]\u001b[A\u001b[A\n",
      "\n",
      "100%|██████████| 1/1 [00:00<00:00, 929.59it/s]\u001b[A\u001b[A\n",
      "\n",
      "  0%|          | 0/3 [00:00<?, ?it/s]\u001b[A\u001b[A\n",
      "\n",
      "100%|██████████| 3/3 [00:00<00:00, 1191.45it/s]\u001b[A\u001b[A\n",
      " 80%|████████  | 4/5 [00:00<00:00, 18.14it/s]]\u001b[A\n",
      "  0%|          | 0/2 [00:00<?, ?it/s]\u001b[A\n",
      "\n",
      "  0%|          | 0/1 [00:00<?, ?it/s]\u001b[A\u001b[A\n",
      "\n",
      "100%|██████████| 1/1 [00:00<00:00, 140.67it/s]\u001b[A\u001b[A\n",
      "\n",
      "  0%|          | 0/3 [00:00<?, ?it/s]\u001b[A\u001b[A\n",
      "\n",
      "100%|██████████| 3/3 [00:00<00:00, 674.54it/s]\u001b[A\u001b[A\n",
      "100%|██████████| 5/5 [00:00<00:00, 16.31it/s]\u001b[A\n"
     ]
    }
   ],
   "source": [
    "main(amounts,\n",
    "     seed=4,\n",
    "     holdout_percent=holdout_percent,\n",
    "     experiments_directory=experiments_directory, \n",
    "     holdout_directory=holdout_directory)"
   ]
  },
  {
   "cell_type": "markdown",
   "metadata": {},
   "source": [
    "### Train"
   ]
  },
  {
   "cell_type": "code",
   "execution_count": 5,
   "metadata": {},
   "outputs": [
    {
     "name": "stdout",
     "output_type": "stream",
     "text": [
      "Training amount: 1\n",
      "Training amount: 3\n"
     ]
    }
   ],
   "source": [
    "for amount in amounts:\n",
    "    print(\"Training amount: {}\".format(amount,))\n",
    "    os.system(\"\"\"python retrain.py              \\\\\n",
    "        --summaries_dir /tmp/retrain_logs       \\\\\n",
    "        --image_dir small-experiments/{}        \\\\\n",
    "        --log_level 1                           \\\\\n",
    "        --csv_folder small-csvs                 \\\\\n",
    "        --summaries_dir small-ckpts/{}          \\\\\n",
    "        --output_graph small-ckpts/{}/graph.pb  \\\\\n",
    "        --how_many_training_steps 300           \\\\\n",
    "        --validation_percentage 0               \\\\\n",
    "        --testing_percentage 0\n",
    "        \"\"\".format(amount, amount, amount))"
   ]
  },
  {
   "cell_type": "markdown",
   "metadata": {},
   "source": [
    "### Evaluate"
   ]
  },
  {
   "cell_type": "code",
   "execution_count": 6,
   "metadata": {},
   "outputs": [
    {
     "name": "stdout",
     "output_type": "stream",
     "text": [
      "Inferring amount: 1\n",
      "Inferring amount: 3\n"
     ]
    }
   ],
   "source": [
    "for amount in amounts:\n",
    "    print(\"Inferring amount: {}\".format(amount,))\n",
    "    os.system(\"\"\"python label_folder.py      \\\\\n",
    "        --folder small-holdouts              \\\\\n",
    "        --prefix small-experiments_{}        \\\\\n",
    "        --csv_folder small-csvs              \\\\\n",
    "        --graph small-ckpts/{}/graph.pb\n",
    "\n",
    "        \"\"\".format(amount, amount, amount))"
   ]
  },
  {
   "cell_type": "markdown",
   "metadata": {},
   "source": [
    "### Analyse"
   ]
  },
  {
   "cell_type": "code",
   "execution_count": 7,
   "metadata": {},
   "outputs": [],
   "source": [
    "def holdout_threshold (run, threshold = 0.5):\n",
    "    df = pd.read_csv(f\"{csvs_directory}/small-experiments_{run}-results.csv\")\n",
    "    df[\"correct\"] = df.apply(lambda row: row[\"predicted_\" + row[\"true_label\"]] \n",
    "                             > threshold, 1)\n",
    "    return df \n",
    "\n",
    "def holdout_accuracy_threshold (run, threshold = 0.5):\n",
    "    df  = holdout_threshold(run, threshold)\n",
    "    acc = df[\"correct\"].sum() / len(df)\n",
    "    return np.round(acc, 2)\n",
    "\n",
    "\n",
    "def holdout_max (run):\n",
    "    df = pd.read_csv(f\"{csvs_directory}/small-experiments_{run}-results.csv\")\n",
    "    \n",
    "    def was_right (row):\n",
    "        cols = [c for c in row.keys() if c.startswith(\"predicted\")]\n",
    "        best = \"\"\n",
    "        last = 0\n",
    "        \n",
    "        for c in cols:\n",
    "            name = c.split(\"_\")[1]\n",
    "            v    = float(row[c])\n",
    "            if v > last:\n",
    "                best = name\n",
    "                last = v\n",
    "        \n",
    "        return best == row[\"true_label\"]\n",
    "    \n",
    "    df[\"correct\"] = df.apply(was_right, 1)\n",
    "    return df\n",
    "\n",
    "def holdout_accuracy_max (run):\n",
    "    df  = holdout_max(run)\n",
    "    acc = df[\"correct\"].sum() / len(df)\n",
    "    return np.round(acc, 2)"
   ]
  },
  {
   "cell_type": "code",
   "execution_count": 8,
   "metadata": {},
   "outputs": [
    {
     "name": "stdout",
     "output_type": "stream",
     "text": [
      "1\n",
      "              max: 0.54\n",
      "  threshold (0.5): 0.23\n",
      "  threshold (0.8): 0.02\n",
      "\n",
      "3\n",
      "              max: 0.68\n",
      "  threshold (0.5): 0.55\n",
      "  threshold (0.8): 0.25\n",
      "\n"
     ]
    }
   ],
   "source": [
    "for amount in amounts:\n",
    "    print(amount)\n",
    "    print(\"              max:\", holdout_accuracy_max(amount))\n",
    "    print(\"  threshold (0.5):\", holdout_accuracy_threshold(amount))\n",
    "    print(\"  threshold (0.8):\", holdout_accuracy_threshold(amount, threshold=0.8))\n",
    "    print(\"\")"
   ]
  }
 ],
 "metadata": {
  "kernelspec": {
   "display_name": "Python 3",
   "language": "python",
   "name": "python3"
  },
  "language_info": {
   "codemirror_mode": {
    "name": "ipython",
    "version": 3
   },
   "file_extension": ".py",
   "mimetype": "text/x-python",
   "name": "python",
   "nbconvert_exporter": "python",
   "pygments_lexer": "ipython3",
   "version": "3.6.2"
  }
 },
 "nbformat": 4,
 "nbformat_minor": 2
}
