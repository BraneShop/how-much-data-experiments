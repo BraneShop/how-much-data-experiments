{
 "cells": [
  {
   "cell_type": "markdown",
   "metadata": {},
   "source": [
    "# Run a single experiment"
   ]
  },
  {
   "cell_type": "markdown",
   "metadata": {},
   "source": [
    "## On Google Colaboratory, also run:\n",
    "\n",
    "```\n",
    "!curl -LO http://download.tensorflow.org/example_images/flower_photos.tgz && \\\n",
    "  tar xzf flower_photos.tgz\n",
    "  \n",
    "!pip install -q six scipy Pillow matplotlib scikit-image opencv-python imageio Shapely \\\n",
    "  imgaug vega tqdm\n",
    "  \n",
    "!wget https://raw.githubusercontent.com/BraneShop/how-much-data-experiments/master/downsample_data.py && \\\n",
    "  wget https://raw.githubusercontent.com/BraneShop/how-much-data-experiments/master/augment_data.py && \\\n",
    "  wget https://raw.githubusercontent.com/BraneShop/how-much-data-experiments/master/label_folder.py && \\\n",
    "  wget https://raw.githubusercontent.com/BraneShop/how-much-data-experiments/master/retrain.py\n",
    " ```\n",
    " \n",
    " to get all the neccessary files onto the instance."
   ]
  },
  {
   "cell_type": "code",
   "execution_count": 1,
   "metadata": {},
   "outputs": [],
   "source": [
    "from downsample_data import main\n",
    "import os\n",
    "import pandas as pd\n",
    "import numpy  as np"
   ]
  },
  {
   "cell_type": "code",
   "execution_count": 2,
   "metadata": {},
   "outputs": [],
   "source": [
    "experiments_directory = \"small-experiments\"\n",
    "holdout_directory     = \"small-holdout\"\n",
    "csvs_directory        = \"small-csvs\"\n",
    "ckpts_directory       = \"small-ckpts\"\n",
    "holdout_percent       = 10\n",
    "steps                 = 300 # 300 for small examples, 4000 for normal kind.\n",
    "validation_percentage = 0   # 0 for small kind, 10 for normal kind\n",
    "testing_percentage    = 0   # 0 for small kind, 10 for normal kind"
   ]
  },
  {
   "cell_type": "code",
   "execution_count": 3,
   "metadata": {},
   "outputs": [],
   "source": [
    "os.system(\"mkdir -p {} && mkdir -p {} && mkdir -p {}\".\n",
    "          format(experiments_directory, \n",
    "                 holdout_directory,\n",
    "                 csvs_directory));"
   ]
  },
  {
   "cell_type": "code",
   "execution_count": 4,
   "metadata": {},
   "outputs": [],
   "source": [
    "def downsample(amounts, seed=None):\n",
    "    main(amounts,\n",
    "       seed=seed,\n",
    "       holdout_percent=holdout_percent,\n",
    "       experiments_directory=experiments_directory, \n",
    "       holdout_directory=holdout_directory)"
   ]
  },
  {
   "cell_type": "markdown",
   "metadata": {},
   "source": [
    "### Train"
   ]
  },
  {
   "cell_type": "code",
   "execution_count": 5,
   "metadata": {},
   "outputs": [],
   "source": [
    "def train(amounts):\n",
    "    for amount in amounts:\n",
    "        print(\"Training amount: {}\".format(amount,))\n",
    "        os.system(\" \".join([ \"python retrain.py\"\n",
    "                           , \"--image_dir\",               experiments_directory + \"/\" + str(amount)\n",
    "                           , \"--log_level\",               \"1\"\n",
    "                           , \"--csv_folder\",              csvs_directory\n",
    "                           , \"--summaries_dir\",           ckpts_directory + \"/\" + str(amount)\n",
    "                           , \"--output_graph\",            ckpts_directory + \"/\" + str(amount) + \"/graph.pb\"\n",
    "                           , \"--how_many_training_steps\", str(steps)\n",
    "                           , \"--validation_percentage\",   str(validation_percentage)\n",
    "                           , \"--testing_percentage\",      str(testing_percentage)\n",
    "                           ]))"
   ]
  },
  {
   "cell_type": "markdown",
   "metadata": {},
   "source": [
    "### Evaluate"
   ]
  },
  {
   "cell_type": "code",
   "execution_count": 6,
   "metadata": {},
   "outputs": [],
   "source": [
    "def evaluate(amounts):\n",
    "    for amount in amounts:\n",
    "        print(\"Inferring amount: {}\".format(amount,))\n",
    "        os.system(\" \".join([ \"python label_folder.py\"\n",
    "                           , \"--folder\",     holdout_directory\n",
    "                           , \"--prefix\",     experiments_directory + \"_\" + str(amount)\n",
    "                           , \"--csv_folder\", csvs_directory\n",
    "                           , \"--graph\",      ckpts_directory + \"/\" + str(amount) + \"/graph.pb\"\n",
    "                           ]))"
   ]
  },
  {
   "cell_type": "markdown",
   "metadata": {},
   "source": [
    "### Analyse"
   ]
  },
  {
   "cell_type": "code",
   "execution_count": 7,
   "metadata": {},
   "outputs": [],
   "source": [
    "def holdout_threshold (run, threshold = 0.5):\n",
    "    df = pd.read_csv(f\"{csvs_directory}/{experiments_directory}_{run}-results.csv\")\n",
    "    df[\"correct\"] = df.apply(lambda row: row[\"predicted_\" + row[\"true_label\"]] \n",
    "                             > threshold, 1)\n",
    "    return df \n",
    "\n",
    "def holdout_accuracy_threshold (run, threshold = 0.5):\n",
    "    df  = holdout_threshold(run, threshold)\n",
    "    acc = df[\"correct\"].sum() / len(df)\n",
    "    return np.round(acc, 2)\n",
    "\n",
    "\n",
    "def holdout_max (run):\n",
    "    df = pd.read_csv(f\"{csvs_directory}/{experiments_directory}_{run}-results.csv\")\n",
    "    \n",
    "    def was_right (row):\n",
    "        cols = [c for c in row.keys() if c.startswith(\"predicted\")]\n",
    "        best = \"\"\n",
    "        last = 0\n",
    "        \n",
    "        for c in cols:\n",
    "            name = c.split(\"_\")[1]\n",
    "            v    = float(row[c])\n",
    "            if v > last:\n",
    "                best = name\n",
    "                last = v\n",
    "        \n",
    "        return best == row[\"true_label\"]\n",
    "    \n",
    "    df[\"correct\"] = df.apply(was_right, 1)\n",
    "    return df\n",
    "\n",
    "def holdout_accuracy_max (run):\n",
    "    df  = holdout_max(run)\n",
    "    acc = df[\"correct\"].sum() / len(df)\n",
    "    return np.round(acc, 2)\n"
   ]
  },
  {
   "cell_type": "code",
   "execution_count": 8,
   "metadata": {},
   "outputs": [],
   "source": [
    "def analyse (amounts):\n",
    "    results = []\n",
    "    for amount in amounts:\n",
    "        print(amount)\n",
    "        a1 = holdout_accuracy_max(amount)\n",
    "        a2 = holdout_accuracy_threshold(amount)\n",
    "        a3 = holdout_accuracy_threshold(amount, threshold=0.8)\n",
    "\n",
    "        print(\"              max:\", a1)\n",
    "        print(\"  threshold (0.5):\", a2)\n",
    "        print(\"  threshold (0.8):\", a3)\n",
    "        print(\"\")\n",
    "\n",
    "        results.append( { \"max\": a1, \">0.5\": a2, \">0.8\": a3, \"experiment\": amount })\n",
    "\n",
    "    return pd.DataFrame(results)"
   ]
  },
  {
   "cell_type": "code",
   "execution_count": 9,
   "metadata": {},
   "outputs": [],
   "source": [
    "amounts = [\"1\", \"3\"]\n",
    "trials  = 1"
   ]
  },
  {
   "cell_type": "code",
   "execution_count": 10,
   "metadata": {},
   "outputs": [
    {
     "name": "stderr",
     "output_type": "stream",
     "text": [
      "  0%|          | 0/5 [00:00<?, ?it/s]\n",
      "  0%|          | 0/2 [00:00<?, ?it/s]\u001b[A\n",
      "\n",
      "  0%|          | 0/1 [00:00<?, ?it/s]\u001b[A\u001b[A\n",
      "\n",
      "100%|██████████| 1/1 [00:00<00:00, 438.69it/s]\u001b[A\u001b[A\n",
      "\n",
      "  0%|          | 0/3 [00:00<?, ?it/s]\u001b[A\u001b[A\n",
      "\n",
      "100%|██████████| 3/3 [00:00<00:00, 861.78it/s]\u001b[A\u001b[A\n",
      "100%|██████████| 2/2 [00:00<00:00, 149.84it/s]\u001b[A\n",
      "  0%|          | 0/2 [00:00<?, ?it/s]\u001b[A\n",
      "\n",
      "  0%|          | 0/1 [00:00<?, ?it/s]\u001b[A\u001b[A\n",
      "\n",
      "100%|██████████| 1/1 [00:00<00:00, 645.67it/s]\u001b[A\u001b[A\n",
      "\n",
      "  0%|          | 0/3 [00:00<?, ?it/s]\u001b[A\u001b[A\n",
      "\n",
      "100%|██████████| 3/3 [00:00<00:00, 678.40it/s]\u001b[A\u001b[A\n",
      " 40%|████      | 2/5 [00:00<00:00, 15.21it/s]]\u001b[A\n",
      "  0%|          | 0/2 [00:00<?, ?it/s]\u001b[A\n",
      "\n",
      "  0%|          | 0/1 [00:00<?, ?it/s]\u001b[A\u001b[A\n",
      "\n",
      "100%|██████████| 1/1 [00:00<00:00, 708.50it/s]\u001b[A\u001b[A\n",
      "\n",
      "  0%|          | 0/3 [00:00<?, ?it/s]\u001b[A\u001b[A\n",
      "\n",
      "100%|██████████| 3/3 [00:00<00:00, 553.44it/s]\u001b[A\u001b[A\n",
      "100%|██████████| 2/2 [00:00<00:00, 140.98it/s]\u001b[A\n",
      "  0%|          | 0/2 [00:00<?, ?it/s]\u001b[A\n",
      "\n",
      "  0%|          | 0/1 [00:00<?, ?it/s]\u001b[A\u001b[A\n",
      "\n",
      "100%|██████████| 1/1 [00:00<00:00, 523.96it/s]\u001b[A\u001b[A\n",
      "\n",
      "  0%|          | 0/3 [00:00<?, ?it/s]\u001b[A\u001b[A\n",
      "\n",
      "100%|██████████| 3/3 [00:00<00:00, 749.83it/s]\u001b[A\u001b[A\n",
      " 80%|████████  | 4/5 [00:00<00:00, 14.83it/s]]\u001b[A\n",
      "  0%|          | 0/2 [00:00<?, ?it/s]\u001b[A\n",
      "\n",
      "  0%|          | 0/1 [00:00<?, ?it/s]\u001b[A\u001b[A\n",
      "\n",
      "100%|██████████| 1/1 [00:00<00:00, 360.40it/s]\u001b[A\u001b[A\n",
      "\n",
      "  0%|          | 0/3 [00:00<?, ?it/s]\u001b[A\u001b[A\n",
      "\n",
      "100%|██████████| 3/3 [00:00<00:00, 2007.16it/s]\u001b[A\u001b[A\n",
      "100%|██████████| 5/5 [00:00<00:00, 14.79it/s]]\u001b[A\n"
     ]
    },
    {
     "name": "stdout",
     "output_type": "stream",
     "text": [
      "Training amount: 1\n",
      "Training amount: 3\n",
      "Inferring amount: 1\n",
      "Inferring amount: 3\n",
      "1\n",
      "              max: 0.58\n",
      "  threshold (0.5): 0.26\n",
      "  threshold (0.8): 0.04\n",
      "\n",
      "3\n",
      "              max: 0.7\n",
      "  threshold (0.5): 0.55\n",
      "  threshold (0.8): 0.23\n",
      "\n"
     ]
    }
   ],
   "source": [
    "dfs = []\n",
    "\n",
    "for trial in range(trials):\n",
    "    downsample(amounts)\n",
    "    train(amounts)\n",
    "    evaluate(amounts)\n",
    "    df = analyse(amounts)\n",
    "    df[\"trial\"] = trial\n",
    "    dfs.append(df)\n",
    "\n",
    "df = pd.concat(dfs)"
   ]
  },
  {
   "cell_type": "code",
   "execution_count": 11,
   "metadata": {},
   "outputs": [
    {
     "data": {
      "text/html": [
       "<div>\n",
       "<style scoped>\n",
       "    .dataframe tbody tr th:only-of-type {\n",
       "        vertical-align: middle;\n",
       "    }\n",
       "\n",
       "    .dataframe tbody tr th {\n",
       "        vertical-align: top;\n",
       "    }\n",
       "\n",
       "    .dataframe thead th {\n",
       "        text-align: right;\n",
       "    }\n",
       "</style>\n",
       "<table border=\"1\" class=\"dataframe\">\n",
       "  <thead>\n",
       "    <tr style=\"text-align: right;\">\n",
       "      <th></th>\n",
       "      <th>&gt;0.5</th>\n",
       "      <th>&gt;0.8</th>\n",
       "      <th>experiment</th>\n",
       "      <th>max</th>\n",
       "      <th>trial</th>\n",
       "    </tr>\n",
       "  </thead>\n",
       "  <tbody>\n",
       "    <tr>\n",
       "      <th>0</th>\n",
       "      <td>0.26</td>\n",
       "      <td>0.04</td>\n",
       "      <td>1</td>\n",
       "      <td>0.58</td>\n",
       "      <td>0</td>\n",
       "    </tr>\n",
       "    <tr>\n",
       "      <th>1</th>\n",
       "      <td>0.55</td>\n",
       "      <td>0.23</td>\n",
       "      <td>3</td>\n",
       "      <td>0.70</td>\n",
       "      <td>0</td>\n",
       "    </tr>\n",
       "  </tbody>\n",
       "</table>\n",
       "</div>"
      ],
      "text/plain": [
       "   >0.5  >0.8 experiment   max  trial\n",
       "0  0.26  0.04          1  0.58      0\n",
       "1  0.55  0.23          3  0.70      0"
      ]
     },
     "execution_count": 11,
     "metadata": {},
     "output_type": "execute_result"
    }
   ],
   "source": [
    "df"
   ]
  },
  {
   "cell_type": "code",
   "execution_count": 12,
   "metadata": {},
   "outputs": [
    {
     "data": {
      "text/html": [
       "<div>\n",
       "<style scoped>\n",
       "    .dataframe tbody tr th:only-of-type {\n",
       "        vertical-align: middle;\n",
       "    }\n",
       "\n",
       "    .dataframe tbody tr th {\n",
       "        vertical-align: top;\n",
       "    }\n",
       "\n",
       "    .dataframe thead tr th {\n",
       "        text-align: left;\n",
       "    }\n",
       "\n",
       "    .dataframe thead tr:last-of-type th {\n",
       "        text-align: right;\n",
       "    }\n",
       "</style>\n",
       "<table border=\"1\" class=\"dataframe\">\n",
       "  <thead>\n",
       "    <tr>\n",
       "      <th></th>\n",
       "      <th colspan=\"8\" halign=\"left\">max</th>\n",
       "    </tr>\n",
       "    <tr>\n",
       "      <th></th>\n",
       "      <th>count</th>\n",
       "      <th>mean</th>\n",
       "      <th>std</th>\n",
       "      <th>min</th>\n",
       "      <th>25%</th>\n",
       "      <th>50%</th>\n",
       "      <th>75%</th>\n",
       "      <th>max</th>\n",
       "    </tr>\n",
       "    <tr>\n",
       "      <th>experiment</th>\n",
       "      <th></th>\n",
       "      <th></th>\n",
       "      <th></th>\n",
       "      <th></th>\n",
       "      <th></th>\n",
       "      <th></th>\n",
       "      <th></th>\n",
       "      <th></th>\n",
       "    </tr>\n",
       "  </thead>\n",
       "  <tbody>\n",
       "    <tr>\n",
       "      <th>1</th>\n",
       "      <td>1.0</td>\n",
       "      <td>0.58</td>\n",
       "      <td>NaN</td>\n",
       "      <td>0.58</td>\n",
       "      <td>0.58</td>\n",
       "      <td>0.58</td>\n",
       "      <td>0.58</td>\n",
       "      <td>0.58</td>\n",
       "    </tr>\n",
       "    <tr>\n",
       "      <th>3</th>\n",
       "      <td>1.0</td>\n",
       "      <td>0.70</td>\n",
       "      <td>NaN</td>\n",
       "      <td>0.70</td>\n",
       "      <td>0.70</td>\n",
       "      <td>0.70</td>\n",
       "      <td>0.70</td>\n",
       "      <td>0.70</td>\n",
       "    </tr>\n",
       "  </tbody>\n",
       "</table>\n",
       "</div>"
      ],
      "text/plain": [
       "             max                                        \n",
       "           count  mean std   min   25%   50%   75%   max\n",
       "experiment                                              \n",
       "1            1.0  0.58 NaN  0.58  0.58  0.58  0.58  0.58\n",
       "3            1.0  0.70 NaN  0.70  0.70  0.70  0.70  0.70"
      ]
     },
     "execution_count": 12,
     "metadata": {},
     "output_type": "execute_result"
    }
   ],
   "source": [
    "df[[\"experiment\", \"max\"]].groupby(\"experiment\").describe()"
   ]
  }
 ],
 "metadata": {
  "kernelspec": {
   "display_name": "Python 3",
   "language": "python",
   "name": "python3"
  },
  "language_info": {
   "codemirror_mode": {
    "name": "ipython",
    "version": 3
   },
   "file_extension": ".py",
   "mimetype": "text/x-python",
   "name": "python",
   "nbconvert_exporter": "python",
   "pygments_lexer": "ipython3",
   "version": "3.6.2"
  }
 },
 "nbformat": 4,
 "nbformat_minor": 2
}
